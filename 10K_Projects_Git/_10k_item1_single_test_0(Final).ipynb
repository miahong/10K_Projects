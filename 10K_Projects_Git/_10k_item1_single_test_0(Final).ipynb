{
 "nbformat": 4,
 "nbformat_minor": 2,
 "metadata": {
  "language_info": {
   "name": "python",
   "codemirror_mode": {
    "name": "ipython",
    "version": 3
   },
   "version": "3.7.3-final"
  },
  "orig_nbformat": 2,
  "file_extension": ".py",
  "mimetype": "text/x-python",
  "name": "python",
  "npconvert_exporter": "python",
  "pygments_lexer": "ipython3",
  "version": 3,
  "kernelspec": {
   "name": "python3",
   "display_name": "Python 3"
  }
 },
 "cells": [
  {
   "cell_type": "code",
   "execution_count": 1,
   "metadata": {},
   "outputs": [],
   "source": [
    "import numpy as np\n",
    "import nltk\n",
    "import string\n",
    "import requests\n",
    "import re\n",
    "import glob\n",
    "import os, sys\n",
    "from nltk.corpus import wordnet as wn\n",
    "from nltk.corpus import stopwords\n",
    "from nltk.tokenize import RegexpTokenizer\n",
    "from nltk.stem import WordNetLemmatizer\n",
    "from nltk.stem.porter import PorterStemmer\n",
    "import pandas as pd\n",
    "import xlrd\n",
    "import csv\n",
    "import time\n",
    "import dask\n",
    "import dask.dataframe as dd\n",
    "from bs4 import BeautifulSoup\n",
    "from sec_edgar_downloader import Downloader\n",
    "from data_preparation import clean_ticker, download_to_item1\n",
    "dl = Downloader(\"/home/hongzhuoqiao/10K_Projects/sec_filings\")"
   ]
  },
  {
   "cell_type": "code",
   "execution_count": 2,
   "metadata": {},
   "outputs": [
    {
     "data": {
      "text/plain": "21"
     },
     "execution_count": 2,
     "metadata": {},
     "output_type": "execute_result"
    }
   ],
   "source": [
    "dl.get(\"10-K\", 'A')"
   ]
  },
  {
   "cell_type": "code",
   "execution_count": 4,
   "metadata": {},
   "outputs": [
    {
     "name": "stdout",
     "output_type": "stream",
     "text": "-----BEGIN PRIVACY-ENHANCED MESSAGE-----\nProc-Type: 2001,MIC-CLEAR\nOriginator-Name: webmaster@www.sec.gov\nOriginator-Key-Asymmetric:\n MFgwCgYEVQgBAQICAf8DSgAwRwJAW2sNKK9AVtBzYZmr6aGjlWyK3XmZv3dTINen\n TWSM7vrzLADbmYQaionwg5sDW3P6oaM5D3tdezXMm7z1T+B+twIDAQAB\nMIC-Info: RSA-MD5,RSA,\n U7zCYL+YukoJ5nMfZFUPdtROw5Q9seOi7L4FtynMQyCM1QNrOYdZx7lFKVGIr4/E\n BZPgpB1UfFCPv+J4w36J/Q==\n\n<SEC-DOCUMENT>0000912057-00-002160.txt : 20000203\n<SEC-HEADER>0000912057-00-002160.hdr.sgml : 20000203\nACCESSION NUMBER:\t\t0000912057-00-002160\nCONFORMED SUBMISSION TYPE:\t10-K405\nPUBLIC DOCUMENT COUNT:\t\t5\nCONFORMED PERIOD OF REPORT:\t19991031\nFILED AS OF DATE:\t\t20000125\n\nFILER:\n\n\tCOMPANY DATA:\t\n\t\tCOMPANY CONFORMED NAME:\t\t\tAGILENT TECHNOLOGIES INC\n\t\tCENTRAL INDEX KEY:\t\t\t0001090872\n\t\tSTANDARD INDUSTRIAL CLASSIFICATION:\tINSTRUMENTS FOR MEAS & TESTING OF ELECTRICITY & ELEC SIGNALS [3825]\n\t\tIRS NUMBER:\t\t\t\t770518772\n\t\tSTATE OF INCORPORATION:\t\t\tDE\n\t\tFISCAL YEAR END:\t\t\t1031\n\n\tFILING VALUES:\n\t\tFORM TYPE:\t\t10-K405\n\t\tSEC ACT:\t\t\n\t\tSE\n"
    }
   ],
   "source": [
    "ticker = 'A'\n",
    "path_header = \"/home/hongzhuoqiao/10K_Projects/sec_filings/sec_edgar_filings\"\n",
    "path_for_extraction_item1 = path_header + \"/\" + ticker + \"/10-K\" +\"/*.txt\"\n",
    "path_for_item1_folder = \"/home/hongzhuoqiao/10K_Projects/sec_filings/item1_section/\" + ticker\n",
    "\n",
    "# Test code for extract single company's file\n",
    "file_name = \"0000912057-00-002160.txt\"\n",
    "single_file_path = path_header + \"/\" + ticker + \"/10-K/\" + file_name\n",
    "\n",
    "with open(single_file_path, \"r\") as f:\n",
    "    raw_10k = f.read()\n",
    "print(raw_10k[0:1000])"
   ]
  },
  {
   "cell_type": "code",
   "execution_count": 5,
   "metadata": {},
   "outputs": [
    {
     "name": "stdout",
     "output_type": "stream",
     "text": "0\n<callable_iterator object at 0x7f3205d3c5c0>\n"
    },
    {
     "data": {
      "text/html": "<div>\n<style scoped>\n    .dataframe tbody tr th:only-of-type {\n        vertical-align: middle;\n    }\n\n    .dataframe tbody tr th {\n        vertical-align: top;\n    }\n\n    .dataframe thead th {\n        text-align: right;\n    }\n</style>\n<table border=\"1\" class=\"dataframe\">\n  <thead>\n    <tr style=\"text-align: right;\">\n      <th></th>\n      <th>item</th>\n      <th>start</th>\n      <th>end</th>\n      <th>next_1</th>\n      <th>next_1_start</th>\n      <th>pre_1</th>\n      <th>pre_1_start</th>\n    </tr>\n  </thead>\n  <tbody>\n    <tr>\n      <th>0</th>\n      <td>item1</td>\n      <td>4704</td>\n      <td>4710</td>\n      <td>item1</td>\n      <td>6944</td>\n      <td>0</td>\n      <td>0</td>\n    </tr>\n    <tr>\n      <th>1</th>\n      <td>item1</td>\n      <td>6944</td>\n      <td>6950</td>\n      <td>item1</td>\n      <td>10759</td>\n      <td>item1</td>\n      <td>4704</td>\n    </tr>\n    <tr>\n      <th>2</th>\n      <td>item1</td>\n      <td>10759</td>\n      <td>10765</td>\n      <td>item1</td>\n      <td>14756</td>\n      <td>item1</td>\n      <td>6944</td>\n    </tr>\n    <tr>\n      <th>3</th>\n      <td>item1</td>\n      <td>14756</td>\n      <td>14762</td>\n      <td>item1</td>\n      <td>18670</td>\n      <td>item1</td>\n      <td>10759</td>\n    </tr>\n    <tr>\n      <th>4</th>\n      <td>item1</td>\n      <td>18670</td>\n      <td>18676</td>\n      <td>item1</td>\n      <td>22622</td>\n      <td>item1</td>\n      <td>14756</td>\n    </tr>\n    <tr>\n      <th>5</th>\n      <td>item1</td>\n      <td>22622</td>\n      <td>22628</td>\n      <td>item1</td>\n      <td>25953</td>\n      <td>item1</td>\n      <td>18670</td>\n    </tr>\n    <tr>\n      <th>6</th>\n      <td>item1</td>\n      <td>25953</td>\n      <td>25959</td>\n      <td>item1</td>\n      <td>29659</td>\n      <td>item1</td>\n      <td>22622</td>\n    </tr>\n    <tr>\n      <th>7</th>\n      <td>item1</td>\n      <td>29659</td>\n      <td>29665</td>\n      <td>item1</td>\n      <td>33902</td>\n      <td>item1</td>\n      <td>25953</td>\n    </tr>\n    <tr>\n      <th>8</th>\n      <td>item1</td>\n      <td>33902</td>\n      <td>33908</td>\n      <td>item1</td>\n      <td>37685</td>\n      <td>item1</td>\n      <td>29659</td>\n    </tr>\n    <tr>\n      <th>9</th>\n      <td>item1</td>\n      <td>37685</td>\n      <td>37691</td>\n      <td>item1</td>\n      <td>41580</td>\n      <td>item1</td>\n      <td>33902</td>\n    </tr>\n    <tr>\n      <th>10</th>\n      <td>item1</td>\n      <td>41580</td>\n      <td>41586</td>\n      <td>item1</td>\n      <td>45616</td>\n      <td>item1</td>\n      <td>37685</td>\n    </tr>\n    <tr>\n      <th>11</th>\n      <td>item1</td>\n      <td>45616</td>\n      <td>45622</td>\n      <td>item1</td>\n      <td>48887</td>\n      <td>item1</td>\n      <td>41580</td>\n    </tr>\n    <tr>\n      <th>12</th>\n      <td>item1</td>\n      <td>48887</td>\n      <td>48893</td>\n      <td>item1</td>\n      <td>53114</td>\n      <td>item1</td>\n      <td>45616</td>\n    </tr>\n    <tr>\n      <th>13</th>\n      <td>item1</td>\n      <td>53114</td>\n      <td>53120</td>\n      <td>item1</td>\n      <td>56945</td>\n      <td>item1</td>\n      <td>48887</td>\n    </tr>\n    <tr>\n      <th>14</th>\n      <td>item1</td>\n      <td>56945</td>\n      <td>56951</td>\n      <td>item1</td>\n      <td>59921</td>\n      <td>item1</td>\n      <td>53114</td>\n    </tr>\n    <tr>\n      <th>15</th>\n      <td>item1</td>\n      <td>59921</td>\n      <td>59927</td>\n      <td>item1</td>\n      <td>63013</td>\n      <td>item1</td>\n      <td>56945</td>\n    </tr>\n    <tr>\n      <th>16</th>\n      <td>item1</td>\n      <td>63013</td>\n      <td>63019</td>\n      <td>item1</td>\n      <td>66158</td>\n      <td>item1</td>\n      <td>59921</td>\n    </tr>\n    <tr>\n      <th>17</th>\n      <td>item1</td>\n      <td>66158</td>\n      <td>66164</td>\n      <td>item1</td>\n      <td>69966</td>\n      <td>item1</td>\n      <td>63013</td>\n    </tr>\n    <tr>\n      <th>18</th>\n      <td>item1</td>\n      <td>69966</td>\n      <td>69972</td>\n      <td>item1</td>\n      <td>73108</td>\n      <td>item1</td>\n      <td>66158</td>\n    </tr>\n    <tr>\n      <th>19</th>\n      <td>item1</td>\n      <td>73108</td>\n      <td>73114</td>\n      <td>item1</td>\n      <td>76577</td>\n      <td>item1</td>\n      <td>69966</td>\n    </tr>\n    <tr>\n      <th>20</th>\n      <td>item1</td>\n      <td>76577</td>\n      <td>76583</td>\n      <td>item1</td>\n      <td>79641</td>\n      <td>item1</td>\n      <td>73108</td>\n    </tr>\n    <tr>\n      <th>21</th>\n      <td>item1</td>\n      <td>79641</td>\n      <td>79647</td>\n      <td>item1</td>\n      <td>83368</td>\n      <td>item1</td>\n      <td>76577</td>\n    </tr>\n    <tr>\n      <th>22</th>\n      <td>item1</td>\n      <td>83368</td>\n      <td>83374</td>\n      <td>item1</td>\n      <td>87051</td>\n      <td>item1</td>\n      <td>79641</td>\n    </tr>\n    <tr>\n      <th>23</th>\n      <td>item1</td>\n      <td>87051</td>\n      <td>87057</td>\n      <td>item1</td>\n      <td>90901</td>\n      <td>item1</td>\n      <td>83368</td>\n    </tr>\n    <tr>\n      <th>24</th>\n      <td>item1</td>\n      <td>90901</td>\n      <td>90907</td>\n      <td>item1</td>\n      <td>94814</td>\n      <td>item1</td>\n      <td>87051</td>\n    </tr>\n    <tr>\n      <th>25</th>\n      <td>item1</td>\n      <td>94814</td>\n      <td>94820</td>\n      <td>item1</td>\n      <td>98816</td>\n      <td>item1</td>\n      <td>90901</td>\n    </tr>\n    <tr>\n      <th>26</th>\n      <td>item1</td>\n      <td>98816</td>\n      <td>98822</td>\n      <td>item1</td>\n      <td>102855</td>\n      <td>item1</td>\n      <td>94814</td>\n    </tr>\n    <tr>\n      <th>27</th>\n      <td>item1</td>\n      <td>102855</td>\n      <td>102861</td>\n      <td>item1</td>\n      <td>106815</td>\n      <td>item1</td>\n      <td>98816</td>\n    </tr>\n    <tr>\n      <th>28</th>\n      <td>item1</td>\n      <td>106815</td>\n      <td>106821</td>\n      <td>item1</td>\n      <td>111142</td>\n      <td>item1</td>\n      <td>102855</td>\n    </tr>\n    <tr>\n      <th>29</th>\n      <td>item1</td>\n      <td>111142</td>\n      <td>111148</td>\n      <td>item1</td>\n      <td>113763</td>\n      <td>item1</td>\n      <td>106815</td>\n    </tr>\n    <tr>\n      <th>30</th>\n      <td>item1</td>\n      <td>113763</td>\n      <td>113769</td>\n      <td>item1</td>\n      <td>117063</td>\n      <td>item1</td>\n      <td>111142</td>\n    </tr>\n    <tr>\n      <th>31</th>\n      <td>item1</td>\n      <td>117063</td>\n      <td>117069</td>\n      <td>item1</td>\n      <td>120321</td>\n      <td>item1</td>\n      <td>113763</td>\n    </tr>\n    <tr>\n      <th>32</th>\n      <td>item1</td>\n      <td>120321</td>\n      <td>120327</td>\n      <td>item1</td>\n      <td>124156</td>\n      <td>item1</td>\n      <td>117063</td>\n    </tr>\n    <tr>\n      <th>33</th>\n      <td>item1</td>\n      <td>124156</td>\n      <td>124162</td>\n      <td>item1</td>\n      <td>128030</td>\n      <td>item1</td>\n      <td>120321</td>\n    </tr>\n    <tr>\n      <th>34</th>\n      <td>item1</td>\n      <td>128030</td>\n      <td>128036</td>\n      <td>item1</td>\n      <td>131325</td>\n      <td>item1</td>\n      <td>124156</td>\n    </tr>\n    <tr>\n      <th>35</th>\n      <td>item1</td>\n      <td>131325</td>\n      <td>131331</td>\n      <td>item1</td>\n      <td>134759</td>\n      <td>item1</td>\n      <td>128030</td>\n    </tr>\n    <tr>\n      <th>36</th>\n      <td>item1</td>\n      <td>134759</td>\n      <td>134765</td>\n      <td>item1</td>\n      <td>138101</td>\n      <td>item1</td>\n      <td>131325</td>\n    </tr>\n    <tr>\n      <th>37</th>\n      <td>item1</td>\n      <td>138101</td>\n      <td>138107</td>\n      <td>item1</td>\n      <td>141420</td>\n      <td>item1</td>\n      <td>134759</td>\n    </tr>\n    <tr>\n      <th>38</th>\n      <td>item1</td>\n      <td>141420</td>\n      <td>141426</td>\n      <td>item1</td>\n      <td>145199</td>\n      <td>item1</td>\n      <td>138101</td>\n    </tr>\n    <tr>\n      <th>39</th>\n      <td>item1</td>\n      <td>145199</td>\n      <td>145205</td>\n      <td>item1</td>\n      <td>149390</td>\n      <td>item1</td>\n      <td>141420</td>\n    </tr>\n    <tr>\n      <th>40</th>\n      <td>item1</td>\n      <td>149390</td>\n      <td>149396</td>\n      <td>item1</td>\n      <td>153149</td>\n      <td>item1</td>\n      <td>145199</td>\n    </tr>\n    <tr>\n      <th>41</th>\n      <td>item1</td>\n      <td>153149</td>\n      <td>153155</td>\n      <td>item2</td>\n      <td>156491</td>\n      <td>item1</td>\n      <td>149390</td>\n    </tr>\n    <tr>\n      <th>42</th>\n      <td>item2</td>\n      <td>156491</td>\n      <td>156497</td>\n      <td>item2</td>\n      <td>157066</td>\n      <td>item1</td>\n      <td>153149</td>\n    </tr>\n    <tr>\n      <th>43</th>\n      <td>item2</td>\n      <td>157066</td>\n      <td>157072</td>\n      <td>item1</td>\n      <td>277883</td>\n      <td>item2</td>\n      <td>156491</td>\n    </tr>\n    <tr>\n      <th>44</th>\n      <td>item1</td>\n      <td>277883</td>\n      <td>277889</td>\n      <td>item1</td>\n      <td>278109</td>\n      <td>item2</td>\n      <td>157066</td>\n    </tr>\n    <tr>\n      <th>45</th>\n      <td>item1</td>\n      <td>278109</td>\n      <td>278115</td>\n      <td>item1</td>\n      <td>278813</td>\n      <td>item1</td>\n      <td>277883</td>\n    </tr>\n    <tr>\n      <th>46</th>\n      <td>item1</td>\n      <td>278813</td>\n      <td>278819</td>\n      <td>item1</td>\n      <td>279122</td>\n      <td>item1</td>\n      <td>278109</td>\n    </tr>\n    <tr>\n      <th>47</th>\n      <td>item1</td>\n      <td>279122</td>\n      <td>279128</td>\n      <td>item1</td>\n      <td>279394</td>\n      <td>item1</td>\n      <td>278813</td>\n    </tr>\n    <tr>\n      <th>48</th>\n      <td>item1</td>\n      <td>279394</td>\n      <td>279400</td>\n      <td>item1</td>\n      <td>279683</td>\n      <td>item1</td>\n      <td>279122</td>\n    </tr>\n    <tr>\n      <th>49</th>\n      <td>item1</td>\n      <td>279683</td>\n      <td>279689</td>\n      <td>0</td>\n      <td>0</td>\n      <td>item1</td>\n      <td>279394</td>\n    </tr>\n  </tbody>\n</table>\n</div>",
      "text/plain": "     item   start     end next_1  next_1_start  pre_1  pre_1_start\n0   item1    4704    4710  item1          6944      0            0\n1   item1    6944    6950  item1         10759  item1         4704\n2   item1   10759   10765  item1         14756  item1         6944\n3   item1   14756   14762  item1         18670  item1        10759\n4   item1   18670   18676  item1         22622  item1        14756\n5   item1   22622   22628  item1         25953  item1        18670\n6   item1   25953   25959  item1         29659  item1        22622\n7   item1   29659   29665  item1         33902  item1        25953\n8   item1   33902   33908  item1         37685  item1        29659\n9   item1   37685   37691  item1         41580  item1        33902\n10  item1   41580   41586  item1         45616  item1        37685\n11  item1   45616   45622  item1         48887  item1        41580\n12  item1   48887   48893  item1         53114  item1        45616\n13  item1   53114   53120  item1         56945  item1        48887\n14  item1   56945   56951  item1         59921  item1        53114\n15  item1   59921   59927  item1         63013  item1        56945\n16  item1   63013   63019  item1         66158  item1        59921\n17  item1   66158   66164  item1         69966  item1        63013\n18  item1   69966   69972  item1         73108  item1        66158\n19  item1   73108   73114  item1         76577  item1        69966\n20  item1   76577   76583  item1         79641  item1        73108\n21  item1   79641   79647  item1         83368  item1        76577\n22  item1   83368   83374  item1         87051  item1        79641\n23  item1   87051   87057  item1         90901  item1        83368\n24  item1   90901   90907  item1         94814  item1        87051\n25  item1   94814   94820  item1         98816  item1        90901\n26  item1   98816   98822  item1        102855  item1        94814\n27  item1  102855  102861  item1        106815  item1        98816\n28  item1  106815  106821  item1        111142  item1       102855\n29  item1  111142  111148  item1        113763  item1       106815\n30  item1  113763  113769  item1        117063  item1       111142\n31  item1  117063  117069  item1        120321  item1       113763\n32  item1  120321  120327  item1        124156  item1       117063\n33  item1  124156  124162  item1        128030  item1       120321\n34  item1  128030  128036  item1        131325  item1       124156\n35  item1  131325  131331  item1        134759  item1       128030\n36  item1  134759  134765  item1        138101  item1       131325\n37  item1  138101  138107  item1        141420  item1       134759\n38  item1  141420  141426  item1        145199  item1       138101\n39  item1  145199  145205  item1        149390  item1       141420\n40  item1  149390  149396  item1        153149  item1       145199\n41  item1  153149  153155  item2        156491  item1       149390\n42  item2  156491  156497  item2        157066  item1       153149\n43  item2  157066  157072  item1        277883  item2       156491\n44  item1  277883  277889  item1        278109  item2       157066\n45  item1  278109  278115  item1        278813  item1       277883\n46  item1  278813  278819  item1        279122  item1       278109\n47  item1  279122  279128  item1        279394  item1       278813\n48  item1  279394  279400  item1        279683  item1       279122\n49  item1  279683  279689      0             0  item1       279394"
     },
     "execution_count": 5,
     "metadata": {},
     "output_type": "execute_result"
    }
   ],
   "source": [
    "## extraction cell for 1st initial batch extraction. always syncrynized with the \"mult_company_item1_extration.ipynb\"\n",
    "# Regex to find <DOCUMENT> tags\n",
    "doc_start_pattern = re.compile(r'<DOCUMENT>')\n",
    "doc_end_pattern = re.compile(r'</DOCUMENT>')\n",
    "# Regex to find <TYPE> tag prceeding any characters, terminating at new line\n",
    "type_pattern = re.compile(r'<TYPE>[^\\n]+')\n",
    "\n",
    "### as section names\n",
    "doc_start_is = [x.end() for x in doc_start_pattern.finditer(raw_10k)]\n",
    "doc_end_is = [x.start() for x in doc_end_pattern.finditer(raw_10k)]\n",
    "doc_types = [x[len('<TYPE>'):] for x in type_pattern.findall(raw_10k)]\n",
    "\n",
    "#regex = re.compile(r'(Item(\\s|&#160;|&nbsp;)(1A|1B|1|2)\\.{0,1})|(>Item(\\s|&#160;|&nbsp;)(1A|1B|1|2)\\.{0,1})|(ITEM(\\s|&#160;|&nbsp;)(1A|1B|1|2).{0,1})')\n",
    "\n",
    "regex = re.compile(r'(Item(\\s|&#160;|&nbsp;)(1A|1B|1|2)\\.{0})|(>Item(\\s|&#160;|&nbsp;)(1A|1B|1|2)\\.{0})|(ITEM(\\s|&#160;|&nbsp;)(1A|1B|1|2)\\.{0})')\n",
    "\n",
    "# Create a loop to go through each section type and save only the 10-K section in the dictionary\n",
    "document = {}\n",
    "doc = ''\n",
    "extract_failed_flag = 0\n",
    "\n",
    "for doc_type, doc_start, doc_end in zip(doc_types, doc_start_is, doc_end_is):\n",
    "    \n",
    "    if (doc_type =='10-K'):\n",
    "        document[doc_type] = raw_10k[doc_start:doc_end]    \n",
    "        # Use finditer to math the regex\n",
    "        matches = regex.finditer(document['10-K'])\n",
    "        doc = '10-K'\n",
    "        \n",
    "        # Write a for loop to print the matches\n",
    "        \n",
    "    elif (doc_type =='10-K405'):\n",
    "        document[doc_type] = raw_10k[doc_start:doc_end]    \n",
    "        # Use finditer to math the regex\n",
    "        matches = regex.finditer(document['10-K405'])\n",
    "        doc = '10-K405'\n",
    "\n",
    "    elif (doc_type =='10-KT'):\n",
    "        document[doc_type] = raw_10k[doc_start:doc_end]    \n",
    "        # Use finditer to math the regex\n",
    "        matches = regex.finditer(document['10-KT'])\n",
    "        doc = '10-KT'\n",
    "\n",
    "\n",
    "# # Create the dataframe\n",
    "try:\n",
    "    matches = regex.finditer(document[doc])\n",
    "    test_df = pd.DataFrame([(x.group(), x.start(), x.end()) for x in matches])\n",
    "\n",
    "    test_df.columns = ['item', 'start', 'end']\n",
    "    test_df['item'] = test_df.item.str.lower()\n",
    "\n",
    "    # Get rid of unnesesary charcters from the dataframe\n",
    "    test_df.replace('&#160;',' ',regex=True,inplace=True)\n",
    "    test_df.replace('&nbsp;',' ',regex=True,inplace=True)\n",
    "    test_df.replace(' ','',regex=True,inplace=True)\n",
    "    test_df.replace('\\.','',regex=True,inplace=True)\n",
    "    test_df.replace('>','',regex=True,inplace=True)\n",
    "    test_df.replace('<','',regex=True,inplace=True)\n",
    "    test_df.replace('\\n','',regex=True,inplace=True)\n",
    "    # shift dataset to find the next, next next item\n",
    "    test_df['next_1'] = test_df['item'].shift(-1,fill_value=0)\n",
    "    test_df['next_1_start'] = test_df['start'].shift(-1,fill_value=0)\n",
    "    test_df['next_1_start'] = test_df.next_1_start.astype('int32')\n",
    "    # test_df['next_1_end'] = test_df['end'].shift(-1,fill_value=0)\n",
    "    # test_df['next_1_end'] = test_df.next_1_end.astype('int32')\n",
    "    test_df['pre_1'] = test_df['item'].shift(1,fill_value=0)\n",
    "    test_df['pre_1_start'] = test_df['start'].shift(1,fill_value=0)\n",
    "    test_df['pre_1_start'] = test_df.pre_1_start.astype('int32')\n",
    "\n",
    "except:\n",
    "    extract_failed_flag = 1\n",
    "\n",
    "print (extract_failed_flag)\n",
    "print (matches)\n",
    "test_df"
   ]
  },
  {
   "cell_type": "code",
   "execution_count": 6,
   "metadata": {},
   "outputs": [
    {
     "name": "stdout",
     "output_type": "stream",
     "text": "and\nserver-to-server connectivity. The Fibre Channel interconnect protocol, a\nstandard for the transfer of information between computers and storage devices\ndefined by the American National Standards Institute, was developed to meet this\ngrowing demand. Fibre Channel supports the transfer of large amounts of data\nwithin storage area networks at speeds of one gigabit per second and greater and\nprovides high transmission reliability. We supply a broad range of integrated\ncircuits, fiber optic components and systems to manufacturers of storage area\nnetwork systems utilizing the Fibre Channel protocol, such as Data General\nCorporation, EMC Corporation, Hitachi and NEC.\n\n    WIRELESS COMMUNICATIONS.  Worldwide subscriber growth for wireless\ncommunications has been increasing rapidly in recent years. The Strategis Group\nanticipates that the worldwide market for cellular services will increase to\napproximately 650 million subscribers by 2002 from approximately 300 million\nsubscribers in 1998.\n"
    }
   ],
   "source": [
    "# test cell, exact page number test cell\n",
    "item_1_raw = document[doc][67623:451250]\n",
    "item_1_content = BeautifulSoup(item_1_raw, 'lxml')\n",
    "print(item_1_content.get_text(\"\\n\")[0:1000])"
   ]
  },
  {
   "cell_type": "code",
   "execution_count": 156,
   "metadata": {},
   "outputs": [
    {
     "name": "stdout",
     "output_type": "stream",
     "text": "ITEM 1.    BUSINESS\n\n(a)    GENERAL DEVELOPMENT OF BUSINESS\n       The Black & Decker Corporation  (collectively with its subsidiaries,  the\n       Corporation),  incorporated in Maryland in 1910, is a global marketer and\n       manufacturer  of  quality  products  used in and  around the home and for\n       commercial applications.  With products and services marketed in over 100\n       countries,  the Corporation enjoys worldwide  recognition of strong brand\n       names and a superior  reputation  for quality,  design,  innovation,  and\n       value.\n           The  Corporation  is one of the world's  leading  producers  of power\n       tools, power tool accessories, and residential security hardware, and the\n       Corporation's  product lines hold leading market share positions in these\n       industries.  The  Corporation  is a major global  supplier of  engineered\n       fastening and assembly  systems.  The  Corporation  is one of the leading\n       producers  of faucets in North  America.  These  assertions  are based on\n       total volume of sales of products  compared to the total market for those\n       products and are supported by market  research  studies  sponsored by the\n       Corporation as well as independent  industry statistics available through\n       various trade organizations and periodicals,  internally generated market\n       data, and other sources.\n           As  more  fully   described   below   under   the   caption   \"Recent\n       Developments\",  in  Management's  Discussion  and  Analysis of  Financial\n       Condition and Results of Operations included in Item 7 of Part II of this\n       report  under the  caption  \"Strategic  Repositioning\",  and in Note 2 of\n       Notes to Consolidated  Financial Statements included in Item 8 of Part II\n       of this  report,  during 1998,  the  Corporation  divested its  household\n       products   business,   excluding  the  cleaning  and  lighting   products\n       component,  in North  America,  Central  America,  the  Caribbean,  South\n       America (excluding  Brazil),  and Australia,  as well as its recreational\n       products business,  and glass  container-forming and inspection equipment\n       business for aggregate cash proceeds, net of selling expenses paid during\n       1998, of $653.6 million.\n           During 1995, the Corporation  sold  PRC Realty  Systems,  Inc. (RSI),\n       and PRC Environmental  Management,  Inc. (EMI), for aggregate proceeds of\n       approximately  $100 million.  In February 1996, the Corporation  sold PRC\n       Inc.  to  Litton  Industries,   Inc.,  for  approximately  $425  million.\n       Together,  PRC  Inc.,  RSI  and EMI  composed  the  Corporation's  former\n       information   technology  and  services  (PRC)  segment.  For  additional\n       information about the discontinued PRC segment,  see the discussion below\n       under  the  caption  \"Discontinued  Operations\"  and  Note 13 of Notes to\n       Consolidated  Financial  Statements included in Item 8 of Part II of this\n       report.\n           In  April  1996,  the  Corporation  replaced   its  former  unsecured\n       revolving credit facility,  which was scheduled to expire in 1997, with a\n       new unsecured revolving credit facility (the Credit Facility), which will\n       expire  in  2001.  Under  the  Credit  Facility,  which  consists  of two\n       individual facilities, the Corporation may borrow up to $1.0 billion. For\n       additional  informa\n"
    }
   ],
   "source": [
    "# test cell\n",
    "df_2 = test_df[((test_df['item'] == 'item1') & (test_df['next_1'] == 'item2'))|((test_df['item'] == 'item2') & (test_df['pre_1'] == 'item1'))]\n",
    "df_2 = df_2[['item', 'start', 'end']]\n",
    "df_2['next_item'] = df_2['item'].shift(-1,fill_value=0)\n",
    "df_2['next_item_start'] = df_2['start'].shift(-1,fill_value=0)\n",
    "df_2['next_item_start'] = df_2.next_item_start.astype('int32')\n",
    "df_2 = df_2[(df_2['item']=='item1') & (df_2['next_item']=='item2')]\n",
    "df_2['difference'] = df_2['next_item_start'] - df_2['start']\n",
    "df_2 = df_2[(df_2['item']=='item1')& (df_2['start'] < 100000)]\n",
    "df_2.sort_values('difference', ascending = False, inplace = True)\n",
    "raw = document[doc][df_2.iloc[0]['start']:df_2.iloc[0]['next_item_start']]\n",
    "item_1 = BeautifulSoup(raw, 'lxml')\n",
    "print(item_1.get_text(\"\\n\")[0:3500])\n",
    "\n",
    "# df_2.sort_values('difference', ascending = False, inplace = True)\n",
    "# \n"
   ]
  },
  {
   "cell_type": "code",
   "execution_count": 7,
   "metadata": {},
   "outputs": [
    {
     "name": "stdout",
     "output_type": "stream",
     "text": "OPOOS!...Something Wrong!\n"
    }
   ],
   "source": [
    "## beta cell\n",
    "try:\n",
    "    # doc contains 1a 1b section (newr files)\n",
    "    if len(test_df[test_df['item'].str.contains('item1a')]):\n",
    "        df = test_df[((test_df['item'] == 'item1') & (test_df['next_1'] == 'item1a'))|((test_df['item'] == 'item2') & (test_df['pre_1'] == 'item1b')) | ((test_df['item'] == 'item1') & (test_df['next_1'] == 'item2')) | ((test_df['item'] == 'item2') & (test_df['pre_1'] == 'item1a'))] \n",
    "        df = df[['item', 'start', 'end']]\n",
    "        df['next_item'] = df['item'].shift(-1,fill_value=0)\n",
    "        df['next_item_start'] = df['start'].shift(-1,fill_value=0)\n",
    "        df['next_item_start'] = df.next_item_start.astype('int32')\n",
    "        df = df[(df['item']=='item1') & (df['next_item']=='item2')]\n",
    "        df['difference'] = df['next_item_start'] - df['start']\n",
    "        df.sort_values('difference', ascending = False, inplace = True)\n",
    "        item_1_raw = document[doc][df.iloc[0]['start']:df.iloc[0]['next_item_start']]\n",
    "\n",
    "\n",
    "    # doc no 1a 1b\n",
    "    else:\n",
    "        df_1 = test_df.sort_values('start', ascending=True).drop_duplicates(subset=['item'], keep='first')\n",
    "        df_1.set_index('item', inplace=True)\n",
    "        raw_1 = document[doc][df_1['start'].loc['item1']:df_1['start'].loc['item2']]\n",
    "        \n",
    "        df_2 = test_df[((test_df['item'] == 'item1') & (test_df['next_1'] == 'item2'))|((test_df['item'] == 'item2') & (test_df['pre_1'] == 'item1'))]\n",
    "        df_2 = df_2[['item', 'start', 'end']]\n",
    "        df_2['next_item'] = df_2['item'].shift(-1,fill_value=0)\n",
    "        df_2['next_item_start'] = df_2['start'].shift(-1,fill_value=0)\n",
    "        df_2['next_item_start'] = df_2.next_item_start.astype('int32')\n",
    "        df_2 = df_2[(df_2['item']=='item1') & (df_2['next_item']=='item2')]\n",
    "        df_2['difference'] = df_2['next_item_start'] - df_2['start']\n",
    "        df_2 = df_2[(df_2['item']=='item1')& (df_2['start'] < 100000)]\n",
    "        df_2.sort_values('difference', ascending = False, inplace = True)\n",
    "        raw_2 = document[doc][df_2.iloc[0]['start']:df_2.iloc[0]['next_item_start']]\n",
    "\n",
    "        if (len(raw_1)>=len(raw_2)):\n",
    "            item_1_raw = raw_1\n",
    "        else:\n",
    "            item_1_raw = raw_2\n",
    "\n",
    "    item_1_content = BeautifulSoup(item_1_raw, 'lxml')\n",
    "    print(item_1_content.get_text(\"\\n\")[0:3500])\n",
    "\n",
    "except:\n",
    "    print (\"OPOOS!...Something Wrong!\")"
   ]
  },
  {
   "cell_type": "code",
   "execution_count": 135,
   "metadata": {},
   "outputs": [
    {
     "name": "stdout",
     "output_type": "stream",
     "text": "ITEM 14.  EXHIBITS, FINANCIAL STATEMENT SCHEDULES AND                    \n          REPORTS ON FORM 8-K\n\n(a)  List of Financial Statements, Financial Statement Schedules, and Exhibits\n\n     (1)  List of Financial Statements\n          The following consolidated financial statements of the Corporation and\n          its subsidiaries are included in Item 8 of Part II:\n\n               Consolidated  Statement  of Earnings - years ended  December  31,\n               1998, 1997, and 1996.\n\n               Consolidated Balance Sheet - December 31, 1998 and 1997.\n\n               Consolidated  Statement  of  Stockholders'  Equity - years  ended\n               December 31, 1998, 1997, and 1996.\n\n               Consolidated  Statement of Cash Flows - years ended  December 31,\n               1998, 1997, and 1996.\n\n               Notes to Consolidated Financial Statements.\n\n               Report of Independent Auditors.\n\n\n     (2)  List of Financial Statement Schedules\n          The following financial statement schedules of the Corporation and its\n          subsidiaries are included herein.\n\n               Schedule II - Valuation and Qualifying Accounts and Reserves.\n\n          All other  schedules  for which  provision  is made in the  applicable\n          accounting  regulations  of the  Commission are not required under the\n          related  instructions or are inapplicable  and,  therefore,  have been\n          omitted.\n\n\n\n\n\n\n                                      -79-\n\n\n     (3)  List of Exhibits\n          The  following   exhibits  are  either  included  in  this  report  or\n          incorporated herein by reference as indicated below:\n\n\n          Exhibit No.   Exhibit\n\n          2(a)(i)       Transaction  Agreement  dated as of May 10, 1998, by and\n                        between   The   Black   &   Decker    Corporation    and\n                        Windmere-Durable   Holdings,   Inc.,   included  in  the\n                        Corporation's  Quarterly  Report  on Form  10-Q  for the\n                        quarter ended  June  28,  1998,  is  incorporated herein\n                        by reference.*\n\n          2(a)(ii)      Amendment   No. 1   dated  as   June 26,  1998,  to  the\n                        Transaction Agreement dated as of May 10, 1998,  by  and\n                        between The  Black & Decker Corporation   and  Windmere-\n                        Durable  Holdings, Inc., included  in  the Corporation's\n                        Quarterly Report on Form 10-Q  for  the  quarter   ended\n                        June  28, 1998, is incorporated herein by reference.*\n\n          2(a)(iii)     Letter Agreement dated as of July 29, 1998,  between The\n                        Black  &   Decker   Corporation   and   Windmere-Durable\n                        Holdings,  Inc.,  included in the Corporation's  Current\n                        Report  on Form  8-K  filed  on  October  15,  1998,  is\n                        incorporated herein by reference.*\n\n          2(a)(iv)      Amendment  No. 3 dated as of September  23, 1998, to the\n                        Transaction  Agreement  dated as of May 10, 1998, by and\n                        between   The   Black   &   Decker    Corporation    and\n                        Windmere-Durable   Holdings,   Inc.,   included  in  the\n                        Corporation's  Current  Report  on  Form  8-K  filed  on\n                        October 15, 1998, is incorporated herein by reference.*\n\n          \n"
    }
   ],
   "source": [
    "## original finised cell\n",
    "try:\n",
    "    # doc contains 1a 1b section (newr files)\n",
    "    if len(test_df[test_df['item'].str.contains('item1a')]):\n",
    "        df = test_df[((test_df['item'] == 'item1') & (test_df['next_1'] == 'item1a'))|((test_df['item'] == 'item2') & (test_df['pre_1'] == 'item1b')) | ((test_df['item'] == 'item1') & (test_df['next_1'] == 'item2')) | ((test_df['item'] == 'item2') & (test_df['pre_1'] == 'item1a'))] \n",
    "        df = df[['item', 'start', 'end']]\n",
    "        df['next_item'] = df['item'].shift(-1,fill_value=0)\n",
    "        df['next_item_start'] = df['start'].shift(-1,fill_value=0)\n",
    "        df['next_item_start'] = df.next_item_start.astype('int32')\n",
    "        df = df[(df['item']=='item1') & (df['next_item']=='item2')]\n",
    "        df['difference'] = df['next_item_start'] - df['start']\n",
    "        df.sort_values('difference', ascending = False, inplace = True)\n",
    "        item_1_raw = document[doc][df.iloc[0]['start']:df.iloc[0]['next_item_start']]\n",
    "\n",
    "\n",
    "    # doc no 1a 1b\n",
    "    else:\n",
    "        df_1 = test_df.sort_values('start', ascending=True).drop_duplicates(subset=['item'], keep='first')\n",
    "        df_1.set_index('item', inplace=True)\n",
    "        raw_1 = document[doc][df_1['start'].loc['item1']:df_1['start'].loc['item2']]\n",
    "        df_2 = test_df[(test_df['item'] == 'item1') & (test_df['next_1'] == 'item2')]\n",
    "        df_2['difference'] = test_df['next_1_start'] - test_df['start']\n",
    "        df_2.sort_values('difference', ascending = False, inplace = True)\n",
    "        raw_2 = document[doc][df_2.iloc[0]['start']:df_2.iloc[0]['next_1_start']]\n",
    "\n",
    "        if (len(raw_1)>=len(raw_2)):\n",
    "            item_1_raw = raw_1\n",
    "        else:\n",
    "            item_1_raw = raw_2\n",
    "\n",
    "    item_1_content = BeautifulSoup(item_1_raw, 'lxml')\n",
    "    print(item_1_content.get_text(\"\\n\")[0:3500])\n",
    "\n",
    "except:\n",
    "    print (\"OPOOS!...Something Wrong!\")\n"
   ]
  },
  {
   "cell_type": "code",
   "execution_count": 11,
   "metadata": {},
   "outputs": [
    {
     "name": "stdout",
     "output_type": "stream",
     "text": ">Item 1. Business\n\n\n\n\nGeneral\n\n\n\n\n     IKONICS Corporation (IKONICS or the Company) was incorporated in Minnesota as Chroma-Glo,\nInc. in 1952 and changed its name to The Chromaline Corporation in 1982. In December 2002, the\nCompany changed its name to IKONICS Corporation. The Company develops, manufactures and sells\nlight-sensitive liquid coatings (emulsions) and films for screen printing and abrasive etching.\nThe Company also markets inkjet receptive films and ancillary chemicals. The Company resells\nequipment and other consumables to provide a full line of products and services to its customers.\nIn 2006, the Company began to offer custom etching services for silicon wafers, glass wafers and\nindustrial ceramics based on proprietary technology, and also began a research program to develop\ndigital imaging technologies for niche industrial markets. The Companys products serve the screen\nprinting, awards and recognition, signage, electronics, aerospace, and industrial ceramics and\nindustrial digital inkjet markets, as well as other industrial markets. On December 29, 2006, the\nCompany acquired the image mate\n®\n line of screen print photochemical products and adhesives from\nFranklin International. These products continue to be sold under the image mate\n®\n brand, primarily\nthrough established image mate\n®\n distribution, although\n\n\n\n2\n\n\n\n\n\n\nTable of Contents\n\n\n\n\nsome cross fertilization between the image mate\n®\n and Chromaline brands does occur. In 2006, the Company\nestablished the IKONICS Imaging business unit, which comprises PhotoBrasive Systems, serving the\nawards and recognition, and monument markets; and Industrial Solutions, serving industrial markets\nfor electronic wafers and ceramic etching, as well as providing industrial digital inkjet and sound\ndeadening technology. In 2009, Industrial Solutions expanded to the Companys new facility, which\nwas completed at the end of 2008.\n\n\n\nProducts\n\n\n\n\n     IKONICS traditional core technology is the use of photochemicals to create masks or stencils\nfor the transfer of images by screen printing or abrasive etching. Recently, the Companys product\noffering has expanded to include inkjet receptive substrates, digitally generated acid resist\ntransfer films, etched electronic wafers and industrial, ceramics, and sound absorbing technology\nfor the aerospace industry.\n\n\n\nDistribution\n\n\n\n\n     The Company currently has approximately 200 domestic and international distributors. The\nCompany also sells its products through direct sales to certain end users who do not require the\nservices of a distributor. In addition, IKONICS markets and sells its products through magazine\nadvertising, trade shows and the internet.\n\n\n\n     IKONICS has a diverse customer base both domestically and abroad and does not depend on one or\na few customers for a material portion of its revenues. In 2009 and 2008, no one customer\naccounted for more than 10% of net sales.\n\n\n\nQuality Control in Manufacturing\n\n\n\n\n     In March 1994, IKONICS became the first firm in northern Minnesota to receive ISO 9001\ncertification. ISO 9000 is a series of worldwide standards issued by the International\nOrganization for Standardization that provide a framework for quality assurance. ISO 9001 is the\nmost comprehensive standard of the ISO 9000 series. The Company has been recertified every three\nyears beginning in 1997. IKONICS quality function goal is to train all employees properly in both\ntheir work and in the importance of their work. I\n"
    }
   ],
   "source": [
    "# docs contains 1a 1b\n",
    "df = test_df[((test_df['item'] == 'item1') & (test_df['next_1'] == 'item1a'))|((test_df['item'] == 'item2') & (test_df['pre_1'] == 'item1b')) | ((test_df['item'] == 'item1') & (test_df['next_1'] == 'item2')) | ((test_df['item'] == 'item2') & (test_df['pre_1'] == 'item1a'))] \n",
    "df = df[['item', 'start', 'end']]\n",
    "df['next_item'] = df['item'].shift(-1,fill_value=0)\n",
    "df['next_item_start'] = df['start'].shift(-1,fill_value=0)\n",
    "df['next_item_start'] = df.next_item_start.astype('int32')\n",
    "df = df[(df['item']=='item1') & (df['next_item']=='item2')]\n",
    "df['difference'] = df['next_item_start'] - df['start']\n",
    "df.sort_values('difference', ascending = False, inplace = True)\n",
    "item_1_raw = document[doc][df.iloc[0]['start']:df.iloc[0]['next_item_start']]\n",
    "item_1_content = BeautifulSoup(item_1_raw, 'lxml')\n",
    "print(item_1_content.get_text(\"\\n\")[0:3500])\n",
    "# df"
   ]
  },
  {
   "cell_type": "code",
   "execution_count": 193,
   "metadata": {},
   "outputs": [
    {
     "name": "stdout",
     "output_type": "stream",
     "text": ">Item 1.     \nBusiness\n \n \n \n \nThis Annual Report on Form 10-K and\nthe documents incorporated herein by reference contain forward-looking statements based on expectations, estimates and projections as of the date of this filing. Actual results may differ materially from those expressed in forward-looking\nstatements. See Managements Discussion and Analysis of Financial Condition and Results of OperationsForward-Looking Statements. \n \n \n \nGeneral \n \n \n \nAmazon.com, Inc. commenced operations on the World Wide Web in July 1995 and seeks to offer\nEarths Biggest Selection. We seek to be the worlds most customer-centric company, where customers can find and discover anything they may want to buy online. We and our sellers list millions of unique items in categories such as books,\nmusic, DVDs, videos, electronics, computers, camera and photo items, software, computer and video games, cell phones and service, tools and hardware, outdoor living items, kitchen and houseware products, toys, baby and baby registry, travel services\nand magazine subscriptions. Through our Amazon Marketplace, Auctions and zShops services, businesses and individuals can sell virtually any product to our millions of customers, and with Amazon.com Payments, sellers are able to accept credit card\ntransactions in addition to other methods of payment. We operate a U.S.-based Web site, \nwww.amazon.com\n, and four internationally-focused Web sites: \nwww.amazon.co.uk\n, \nwww.amazon.de\n, \nwww.amazon.fr\n and\n\nwww.amazon.co.jp\n. \n \n \n \nAmazon.com was incorporated in 1994 in the state of Washington and reincorporated in 1996 in the state\nof Delaware. Our principal corporate offices are located in Seattle, Washington. We completed our initial public offering in May 1997, and our common stock is listed on the Nasdaq National Market under the symbol AMZN. \n\n\n \n \nAs used herein, Amazon.com, we, our and similar terms include Amazon.com, Inc. and its subsidiaries,\nunless the context indicates otherwise. \n \n \n \nBusiness Strategy \n \n \n \nWe seek to offer Earths Biggest Selection and to be Earths most customer-centric company, where customers can find and discover anything they may want to buy online. To\naccomplish our objective, we have developed three sales channels: online retail, marketplace and other, and third-party sellers. Revenue from each sales channel is recorded in one of our four operating segments: U.S. Books, Music and DVD/Video;\nU.S. Electronics, Tools and Kitchen; Services; and International. Historically, we have focused our sales efforts towards the individual consumer. In 2001, in addition to focusing on the individual consumer, we introduced our corporate and\ninstitutional buying program, which allows qualified businesses, libraries, schools, government institutions and other organizations to purchase products and services from our Web site using purchase orders in addition to credit cards or advance\npayments. \n \n \n \nOnline Retail.\n    Our online retail stores offer a broad range of categories of new\nproducts to our customers. These products include books, music, DVDs, videos, electronics, computers, camera and photo items, software, computer and video games, cell phones and service, tools and hardware, outdoor living items, kitchen and\nhouseware products, and magazine subscriptions. For most new products owned by us and offered on our online retail stores, whether U.S. or international, we purchase the products from vendors and hold them in our fulfillment\n"
    }
   ],
   "source": [
    "# backup\n",
    "df_1 = test_df.sort_values('start', ascending=True).drop_duplicates(subset=['item'], keep='first')\n",
    "df_1.set_index('item', inplace=True)\n",
    "raw_1 = document[doc][df_1['start'].loc['item1']:df_1['start'].loc['item2']]\n",
    "\n",
    "df_2 = test_df[(test_df['item'] == 'item1') & (test_df['next_1'] == 'item2')]\n",
    "df_2['difference'] = test_df['next_1_start'] - test_df['start']\n",
    "df_2.sort_values('difference', ascending = False, inplace = True)\n",
    "raw_2 = document[doc][df_2.iloc[0]['start']:df_2.iloc[0]['next_1_start']]\n",
    "\n",
    "if (len(raw_1)>=len(raw_2)):\n",
    "    item_1_raw = raw_1\n",
    "else:\n",
    "    item_1_raw = raw_2\n",
    "\n",
    "item_1_content = BeautifulSoup(item_1_raw, 'lxml')\n",
    "print(item_1_content.get_text(\"\\n\")[0:3500])"
   ]
  },
  {
   "cell_type": "code",
   "execution_count": null,
   "metadata": {},
   "outputs": [],
   "source": [
    "# testing cells for new files that has 1a, 1b"
   ]
  },
  {
   "cell_type": "code",
   "execution_count": 15,
   "metadata": {},
   "outputs": [
    {
     "name": "stdout",
     "output_type": "stream",
     "text": "ITEM 1. BUSINESS\n\n     This Annual Report on Form 10-K and the documents incorporated herein by\nreference contain forward-looking statements based on current expectations,\nestimates and projections. Actual results may differ materially from those\nexpressed in forward-looking statements. See \"Management's Discussion and\nAnalysis of Financial Condition and Results of Operations -- Forward-Looking\nStatements.\"\n\nGENERAL\n\n     Amazon.com, Inc. is the world's leading online retailer. We have served\nover 17 million customer accounts in over 150 countries. We directly offer for\nsale millions of distinct items in categories such as books, music, DVDs,\nvideos, toys, electronics, software, video games and home improvement products.\nThrough our marketplace services such as Amazon.com Auctions, zShops and\nsothebys.amazon.com, we have created Web-based marketplaces where buyers and\nsellers can enter into transactions with respect to a wide range of products. In\naddition to our US Web site, we currently have two internationally focused Web\nsites located at www.amazon.co.uk and www.amazon.de. We have also invested in\nand developed strategic commercial relationships with a number of selected\ne-commerce companies. We offer our customers a superior shopping experience by\nproviding high value through selection, convenience, ease of use, low prices,\nproduct information and an intense focus on customer service. We are a proven\ntechnology leader, having developed electronic commerce innovations such as\n1-Click technology, personalized shopping services, easy-to-use search and\nbrowse features, secure payment protections and wireless access to our stores.\nIn 1999, we significantly expanded our distribution capabilities worldwide with\nthe addition of eight new distribution centers comprising approximately four\nmillion square feet of warehouse and distribution space. These new facilities\nincrease our control over the distribution process and facilitate our ability to\ndeliver merchandise to customers on a reliable and timely basis.\n\n     Amazon.com is principally organized into three operating segments. The US\nBooks, Music and DVD/ video segment consists of the Company's US online stores\nfor books, music and DVD/video. The Early-Stage Businesses and Other segment\nconsists of the Company's US online stores for electronics, software, video\ngames, toys and home improvement products, US marketplace services, and the\nAmazon.com Commerce Network. The International segment consists of all\noperations in Germany and the UK. See Note 14 of Notes to Consolidated Financial\nStatements incorporated by reference to Item 8 of Part II for additional\ninformation regarding our segments.\n\n     Information contained on the Company's Web sites is not part of this Annual\nReport on Form 10-K.\n\n     Amazon.com was incorporated in 1994 in the state of Washington and\nreincorporated in 1996 in Delaware. The Company's principal corporate offices\nare located in Seattle, Washington. Amazon.com completed \n"
    }
   ],
   "source": [
    "#pos_dat.set_index('item', inplace=True)\n",
    "item_1_raw = document['10-K'][6010:86306]\n",
    "item_1_content = BeautifulSoup(item_1_raw, 'lxml')\n",
    "print(item_1_content.get_text(\"\\n\")[0:3000])"
   ]
  }
 ]
}